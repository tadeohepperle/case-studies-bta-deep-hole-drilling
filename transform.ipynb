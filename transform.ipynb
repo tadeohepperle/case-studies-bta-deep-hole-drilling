{
 "cells": [
  {
   "cell_type": "code",
   "execution_count": 6,
   "metadata": {},
   "outputs": [
    {
     "name": "stdout",
     "output_type": "stream",
     "text": [
      "Collecting gx1convert\n",
      "  Downloading gx1convert-0.1.3-cp310-none-win_amd64.whl (4.8 MB)\n",
      "                                              0.0/4.8 MB ? eta -:--:--\n",
      "                                              0.0/4.8 MB 991.0 kB/s eta 0:00:05\n",
      "     -                                        0.2/4.8 MB 2.8 MB/s eta 0:00:02\n",
      "     ----                                     0.5/4.8 MB 3.8 MB/s eta 0:00:02\n",
      "     ------                                   0.7/4.8 MB 3.9 MB/s eta 0:00:02\n",
      "     --------                                 1.0/4.8 MB 4.3 MB/s eta 0:00:01\n",
      "     --------                                 1.0/4.8 MB 4.4 MB/s eta 0:00:01\n",
      "     --------                                 1.0/4.8 MB 4.4 MB/s eta 0:00:01\n",
      "     --------                                 1.0/4.8 MB 4.4 MB/s eta 0:00:01\n",
      "     --------                                 1.0/4.8 MB 4.4 MB/s eta 0:00:01\n",
      "     --------                                 1.0/4.8 MB 4.4 MB/s eta 0:00:01\n",
      "     --------                                 1.0/4.8 MB 4.4 MB/s eta 0:00:01\n",
      "     --------                                 1.0/4.8 MB 4.4 MB/s eta 0:00:01\n",
      "     --------                                 1.0/4.8 MB 4.4 MB/s eta 0:00:01\n",
      "     ---------                                1.1/4.8 MB 1.8 MB/s eta 0:00:03\n",
      "     ------------                             1.5/4.8 MB 2.1 MB/s eta 0:00:02\n",
      "     ---------------                          1.8/4.8 MB 2.4 MB/s eta 0:00:02\n",
      "     -----------------                        2.1/4.8 MB 2.6 MB/s eta 0:00:02\n",
      "     ------------------                       2.2/4.8 MB 2.5 MB/s eta 0:00:02\n",
      "     -------------------                      2.4/4.8 MB 2.6 MB/s eta 0:00:01\n",
      "     ----------------------                   2.6/4.8 MB 2.8 MB/s eta 0:00:01\n",
      "     -------------------------                3.0/4.8 MB 3.0 MB/s eta 0:00:01\n",
      "     --------------------------               3.1/4.8 MB 3.1 MB/s eta 0:00:01\n",
      "     ---------------------------              3.3/4.8 MB 3.0 MB/s eta 0:00:01\n",
      "     ------------------------------           3.6/4.8 MB 3.2 MB/s eta 0:00:01\n",
      "     ---------------------------------        4.0/4.8 MB 3.4 MB/s eta 0:00:01\n",
      "     -------------------------------------    4.5/4.8 MB 3.7 MB/s eta 0:00:01\n",
      "     ---------------------------------------  4.8/4.8 MB 3.8 MB/s eta 0:00:01\n",
      "     ---------------------------------------- 4.8/4.8 MB 3.7 MB/s eta 0:00:00\n",
      "Installing collected packages: gx1convert\n",
      "  Attempting uninstall: gx1convert\n",
      "    Found existing installation: gx1convert 0.1.1\n",
      "    Uninstalling gx1convert-0.1.1:\n",
      "      Successfully uninstalled gx1convert-0.1.1\n"
     ]
    },
    {
     "name": "stderr",
     "output_type": "stream",
     "text": [
      "ERROR: Could not install packages due to an OSError: [WinError 5] Access is denied: 'C:\\\\Python\\\\Lib\\\\site-packages\\\\~-1convert\\\\gx1convert.cp310-win_amd64.pyd'\n",
      "Consider using the `--user` option or check the permissions.\n",
      "\n"
     ]
    }
   ],
   "source": [
    "! pip install --upgrade --force-reinstall gx1convert"
   ]
  },
  {
   "cell_type": "code",
   "execution_count": 1,
   "metadata": {},
   "outputs": [
    {
     "name": "stdout",
     "output_type": "stream",
     "text": [
      "V2_00001.dat V2_00001.hdr\n",
      "V10_0001.dat V10_0001.hdr\n",
      "D0400001.dat D0400001.hdr\n",
      "D0600001.dat D0600001.hdr\n",
      "D0800001.dat D0800001.hdr\n",
      "V6_00001.dat V6_00001.hdr\n",
      "V17_0001.dat V17_0001.hdr\n",
      "V20_0001.dat V20_0001.hdr\n",
      "V24_0001.dat V24_0001.hdr\n",
      "V25a_001.dat V25a_001.hdr\n"
     ]
    }
   ],
   "source": [
    "import gx1convert\n",
    "\n",
    "files = [(\"V2_00001.dat\", \"V2_00001.hdr\", \"V2_00001.parquet\"), \n",
    "         (\"V10_0001.dat\", \"V10_0001.hdr\", \"V10_0001.parquet\"),\n",
    "         (\"D0400001.dat\", \"D0400001.hdr\", \"D0400001.parquet\",),\n",
    "         (\"D0600001.dat\", \"D0600001.hdr\", \"D0600001.parquet\",),\n",
    "         (\"D0800001.dat\", \"D0800001.hdr\", \"D0800001.parquet\",),\n",
    "         (\"V6_00001.dat\", \"V6_00001.hdr\", \"V6_00001.parquet\",),\n",
    "         (\"V17_0001.dat\", \"V17_0001.hdr\", \"V17_0001.parquet\",),\n",
    "         (\"V20_0001.dat\", \"V20_0001.hdr\", \"V20_0001.parquet\",),\n",
    "         (\"V24_0001.dat\", \"V24_0001.hdr\", \"V24_0001.parquet\",),\n",
    "         (\"V25a_001.dat\", \"V25a_001.hdr\", \"V25a_001.parquet\",),\n",
    "         ]\n",
    "\n",
    "for (data, header, parquet) in files:\n",
    "    print(data, header)\n",
    "    gx1convert.gx1_to_parquet(f\"data/{data}\", f\"data/{header}\", f\"data/{parquet}\")"
   ]
  },
  {
   "cell_type": "code",
   "execution_count": 2,
   "metadata": {},
   "outputs": [
    {
     "ename": "FileNotFoundError",
     "evalue": "The system cannot find the file specified. (os error 2)",
     "output_type": "error",
     "traceback": [
      "\u001b[1;31m---------------------------------------------------------------------------\u001b[0m",
      "\u001b[1;31mFileNotFoundError\u001b[0m                         Traceback (most recent call last)",
      "Cell \u001b[1;32mIn[2], line 2\u001b[0m\n\u001b[0;32m      1\u001b[0m \u001b[39mimport\u001b[39;00m \u001b[39mgx1convert\u001b[39;00m\n\u001b[1;32m----> 2\u001b[0m gx1convert\u001b[39m.\u001b[39;49mgx1_to_parquet(\u001b[39m\"\u001b[39;49m\u001b[39mV2_00001.dat\u001b[39;49m\u001b[39m\"\u001b[39;49m, \\\n\u001b[0;32m      3\u001b[0m                           \u001b[39m\"\u001b[39;49m\u001b[39mV2_00001.hdr\u001b[39;49m\u001b[39m\"\u001b[39;49m, \\\n\u001b[0;32m      4\u001b[0m                           \u001b[39m\"\u001b[39;49m\u001b[39mdata2.parquet\u001b[39;49m\u001b[39m\"\u001b[39;49m)\n",
      "\u001b[1;31mFileNotFoundError\u001b[0m: The system cannot find the file specified. (os error 2)"
     ]
    }
   ],
   "source": [
    "import gx1convert\n",
    "gx1convert.gx1_to_parquet(\"V2_00001.dat\", \\\n",
    "                          \"V2_00001.hdr\", \\\n",
    "                          \"data2.parquet\")"
   ]
  }
 ],
 "metadata": {
  "kernelspec": {
   "display_name": "Python 3",
   "language": "python",
   "name": "python3"
  },
  "language_info": {
   "codemirror_mode": {
    "name": "ipython",
    "version": 3
   },
   "file_extension": ".py",
   "mimetype": "text/x-python",
   "name": "python",
   "nbconvert_exporter": "python",
   "pygments_lexer": "ipython3",
   "version": "3.10.6"
  },
  "orig_nbformat": 4
 },
 "nbformat": 4,
 "nbformat_minor": 2
}
